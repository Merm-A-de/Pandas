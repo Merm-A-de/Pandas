{
  "cells": [
    {
      "cell_type": "markdown",
      "metadata": {
        "id": "view-in-github",
        "colab_type": "text"
      },
      "source": [
        "<a href=\"https://colab.research.google.com/github/Merm-A-de/Pandas/blob/main/Dict_to_df.ipynb\" target=\"_parent\"><img src=\"https://colab.research.google.com/assets/colab-badge.svg\" alt=\"Open In Colab\"/></a>"
      ]
    },
    {
      "cell_type": "code",
      "source": [
        "dic = {\"Dave\":'001', \"Ava\":'002', \"Joe\":'003'}\n",
        "print(dic)\n",
        "print(type(dic))\n",
        "\n"
      ],
      "metadata": {
        "id": "Ap1UWl9RuR9i",
        "outputId": "dd3d5da8-8bb2-4a49-a060-5cd0e197d42d",
        "colab": {
          "base_uri": "https://localhost:8080/"
        }
      },
      "execution_count": 2,
      "outputs": [
        {
          "output_type": "stream",
          "name": "stdout",
          "text": [
            "{'Dave': '001', 'Ava': '002', 'Joe': '003'}\n",
            "<class 'dict'>\n"
          ]
        }
      ]
    },
    {
      "cell_type": "code",
      "source": [
        "new_dic = dict()\n",
        "\n",
        "print(new_dic)\n",
        "print(type(new_dic))"
      ],
      "metadata": {
        "id": "WfDnA0shuR_4",
        "outputId": "c6920cfe-ca84-438a-bd4c-3988fb3eab28",
        "colab": {
          "base_uri": "https://localhost:8080/"
        }
      },
      "execution_count": 1,
      "outputs": [
        {
          "output_type": "stream",
          "name": "stdout",
          "text": [
            "{}\n",
            "<class 'dict'>\n"
          ]
        }
      ]
    },
    {
      "cell_type": "code",
      "source": [
        "new_dic=dict(Dave=\"3\", Ava='4')\n",
        "print(new_dic)"
      ],
      "metadata": {
        "id": "o5_3l8FzuSCQ",
        "outputId": "25887ad4-b52d-4efd-96a0-4585e106f8a5",
        "colab": {
          "base_uri": "https://localhost:8080/"
        }
      },
      "execution_count": 4,
      "outputs": [
        {
          "output_type": "stream",
          "name": "stdout",
          "text": [
            "{'Dave': '3', 'Ava': '4'}\n"
          ]
        }
      ]
    },
    {
      "cell_type": "code",
      "source": [
        "prac_dict = dict(Football='2, NFL')\n",
        "\n",
        "prac_dict \n"
      ],
      "metadata": {
        "id": "AwWyAV_Lu4wF",
        "outputId": "145ac1aa-0a91-476d-a0d2-0f23d22e8b62",
        "colab": {
          "base_uri": "https://localhost:8080/"
        }
      },
      "execution_count": 11,
      "outputs": [
        {
          "output_type": "execute_result",
          "data": {
            "text/plain": [
              "{'Football': '2, NFL'}"
            ]
          },
          "metadata": {},
          "execution_count": 11
        }
      ]
    },
    {
      "cell_type": "code",
      "source": [
        "sec_dict = dict(dict(name=\"First\",last=\"final\"), hobby=\"Fun\")\n",
        "\n",
        "sec_dict\n"
      ],
      "metadata": {
        "id": "VKMUHlJeuSEh",
        "outputId": "71770453-df2a-4461-bf53-4297bb19d037",
        "colab": {
          "base_uri": "https://localhost:8080/"
        }
      },
      "execution_count": 10,
      "outputs": [
        {
          "output_type": "execute_result",
          "data": {
            "text/plain": [
              "{'name': 'First', 'last': 'final', 'hobby': 'Fun'}"
            ]
          },
          "metadata": {},
          "execution_count": 10
        }
      ]
    },
    {
      "cell_type": "code",
      "source": [
        "third_dict = {\"Name\": {\"Angelo\":\"2\"}, {\"Joe\":\"3\"}}"
      ],
      "metadata": {
        "id": "4dq1FPZ1vkm4",
        "outputId": "c3cbf1c1-ddab-45eb-b9a8-f67f4eda1162",
        "colab": {
          "base_uri": "https://localhost:8080/",
          "height": 131
        }
      },
      "execution_count": 13,
      "outputs": [
        {
          "output_type": "error",
          "ename": "SyntaxError",
          "evalue": "ignored",
          "traceback": [
            "\u001b[0;36m  File \u001b[0;32m\"<ipython-input-13-dae5ebaf7b13>\"\u001b[0;36m, line \u001b[0;32m1\u001b[0m\n\u001b[0;31m    third_dict = {\"Name\": {\"Angelo\":\"2\"}, {\"Joe\":\"3\"}}\u001b[0m\n\u001b[0m                                                     ^\u001b[0m\n\u001b[0;31mSyntaxError\u001b[0m\u001b[0;31m:\u001b[0m invalid syntax\n"
          ]
        }
      ]
    },
    {
      "cell_type": "code",
      "source": [
        "fourth_dict = {\"Name\": {\"Angelo\":{\"ID\":4}}}\n",
        "\n",
        "fourth_dict"
      ],
      "metadata": {
        "id": "6ntg4ewRvkpH",
        "outputId": "058bbe25-dfaa-46be-9847-3741dab6f263",
        "colab": {
          "base_uri": "https://localhost:8080/"
        }
      },
      "execution_count": 15,
      "outputs": [
        {
          "output_type": "execute_result",
          "data": {
            "text/plain": [
              "{'Name': {'Angelo': {'ID': 4}}}"
            ]
          },
          "metadata": {},
          "execution_count": 15
        }
      ]
    },
    {
      "cell_type": "code",
      "source": [
        "fifth_dict = {\"Name\": {\"Angelo\":{\"ID\":4}}, {\"Reuben\":{\"ID\":3}}}\n",
        "\n",
        "fifth_dict"
      ],
      "metadata": {
        "id": "pZPuYI1_vksP",
        "outputId": "e7758550-8e48-411b-c6bd-bac1c4306aef",
        "colab": {
          "base_uri": "https://localhost:8080/",
          "height": 131
        }
      },
      "execution_count": 17,
      "outputs": [
        {
          "output_type": "error",
          "ename": "SyntaxError",
          "evalue": "ignored",
          "traceback": [
            "\u001b[0;36m  File \u001b[0;32m\"<ipython-input-17-56fa149bf06d>\"\u001b[0;36m, line \u001b[0;32m1\u001b[0m\n\u001b[0;31m    fifth_dict = {\"Name\": {\"Angelo\":{\"ID\":4}}, {\"Reuben\":{\"ID\":3}}}\u001b[0m\n\u001b[0m                                                                  ^\u001b[0m\n\u001b[0;31mSyntaxError\u001b[0m\u001b[0;31m:\u001b[0m invalid syntax\n"
          ]
        }
      ]
    },
    {
      "cell_type": "code",
      "source": [
        "vid_dict = {\"Who\": {\"Joe\":{'ID':'1','Hourly':'100','Exp':'2'},\n",
        "                    \"Rob\":{'ID':'9','Hourly':'55','Exp':'0.5'},\n",
        "                    \"Leanne\":{'ID':'3','Hourly':'75','Exp':'1.5'}}}\n",
        "\n",
        "vid_dict"
      ],
      "metadata": {
        "id": "1q0E7pdhwOyp",
        "outputId": "8009a1ef-e50f-483b-ad4b-1358dd9d4235",
        "colab": {
          "base_uri": "https://localhost:8080/"
        }
      },
      "execution_count": 77,
      "outputs": [
        {
          "output_type": "execute_result",
          "data": {
            "text/plain": [
              "{'Who': {'Joe': {'ID': '1', 'Hourly': '100', 'Exp': '2'},\n",
              "  'Rob': {'ID': '9', 'Hourly': '55', 'Exp': '0.5'},\n",
              "  'Leanne': {'ID': '3', 'Hourly': '75', 'Exp': '1.5'}}}"
            ]
          },
          "metadata": {},
          "execution_count": 77
        }
      ]
    },
    {
      "cell_type": "code",
      "source": [
        "# Accessing Items"
      ],
      "metadata": {
        "id": "jMJEYDvcwO04"
      },
      "execution_count": 27,
      "outputs": []
    },
    {
      "cell_type": "code",
      "source": [
        "dic['Dave']"
      ],
      "metadata": {
        "id": "VR4Hb_Yiylal",
        "outputId": "459da9ec-12f0-4a56-d968-8e1121269516",
        "colab": {
          "base_uri": "https://localhost:8080/",
          "height": 35
        }
      },
      "execution_count": 32,
      "outputs": [
        {
          "output_type": "execute_result",
          "data": {
            "text/plain": [
              "'001'"
            ],
            "application/vnd.google.colaboratory.intrinsic+json": {
              "type": "string"
            }
          },
          "metadata": {},
          "execution_count": 32
        }
      ]
    },
    {
      "cell_type": "code",
      "source": [
        "print(dic)"
      ],
      "metadata": {
        "id": "StmqOrcMy9Wj",
        "outputId": "901c7f32-751b-41a9-f2c1-ef53229e1ebb",
        "colab": {
          "base_uri": "https://localhost:8080/"
        }
      },
      "execution_count": 33,
      "outputs": [
        {
          "output_type": "stream",
          "name": "stdout",
          "text": [
            "{'Dave': '001', 'Ava': '002', 'Joe': '003'}\n"
          ]
        }
      ]
    },
    {
      "cell_type": "code",
      "source": [
        "print(dic.keys())\n",
        "\n",
        "#for x in dic.keys():\n",
        " # print(x)"
      ],
      "metadata": {
        "id": "ZUlsqzcIwO3X",
        "outputId": "ef07c47c-1ac8-4a48-b660-4446d1a283f1",
        "colab": {
          "base_uri": "https://localhost:8080/"
        }
      },
      "execution_count": 37,
      "outputs": [
        {
          "output_type": "stream",
          "name": "stdout",
          "text": [
            "dict_keys(['Dave', 'Ava', 'Joe'])\n"
          ]
        }
      ]
    },
    {
      "cell_type": "code",
      "source": [
        "print(dic.values())"
      ],
      "metadata": {
        "id": "tCP7rn02zKfc",
        "outputId": "81e079c9-8e79-4141-851d-b62c2659cdc6",
        "colab": {
          "base_uri": "https://localhost:8080/"
        }
      },
      "execution_count": 38,
      "outputs": [
        {
          "output_type": "stream",
          "name": "stdout",
          "text": [
            "dict_values(['001', '002', '003'])\n"
          ]
        }
      ]
    },
    {
      "cell_type": "code",
      "source": [
        "print(dic.get(\"Dave\"))"
      ],
      "metadata": {
        "id": "HVc0ggP-zKh-",
        "outputId": "efe26990-6cca-4d93-bfeb-152fea62900d",
        "colab": {
          "base_uri": "https://localhost:8080/"
        }
      },
      "execution_count": 39,
      "outputs": [
        {
          "output_type": "stream",
          "name": "stdout",
          "text": [
            "001\n"
          ]
        }
      ]
    },
    {
      "cell_type": "code",
      "source": [
        "for x in dic.values():\n",
        "  print(x)"
      ],
      "metadata": {
        "id": "LNTzHQxvzKmE",
        "outputId": "bcad3df9-549c-423b-b083-487577bba935",
        "colab": {
          "base_uri": "https://localhost:8080/"
        }
      },
      "execution_count": 42,
      "outputs": [
        {
          "output_type": "stream",
          "name": "stdout",
          "text": [
            "001\n",
            "002\n",
            "003\n"
          ]
        }
      ]
    },
    {
      "cell_type": "code",
      "source": [
        "for x,y in dic.items():\n",
        "  print(x,y)"
      ],
      "metadata": {
        "id": "PfjzzXwszKpO",
        "outputId": "cfdf504b-d0b4-43aa-e6bc-0660ad07bcd0",
        "colab": {
          "base_uri": "https://localhost:8080/"
        }
      },
      "execution_count": 44,
      "outputs": [
        {
          "output_type": "stream",
          "name": "stdout",
          "text": [
            "Dave 001\n",
            "Ava 002\n",
            "Joe 003\n"
          ]
        }
      ]
    },
    {
      "cell_type": "markdown",
      "source": [
        "#Updating"
      ],
      "metadata": {
        "id": "rmxW6BU2zcnw"
      }
    },
    {
      "cell_type": "code",
      "source": [
        "dic[\"Dave\"]=\"004\"\n",
        "dic['Reuben']=\"001\"\n",
        "dic['Lorainne']=\"002\""
      ],
      "metadata": {
        "id": "korFvGKnzuR8"
      },
      "execution_count": 47,
      "outputs": []
    },
    {
      "cell_type": "code",
      "source": [
        "dic.pop(\"Ava\")"
      ],
      "metadata": {
        "id": "PE4lWVxAzKr1",
        "outputId": "b8f6cd2c-f8ea-4d80-ffba-75c09b6fbd0a",
        "colab": {
          "base_uri": "https://localhost:8080/",
          "height": 35
        }
      },
      "execution_count": 51,
      "outputs": [
        {
          "output_type": "execute_result",
          "data": {
            "text/plain": [
              "'002'"
            ],
            "application/vnd.google.colaboratory.intrinsic+json": {
              "type": "string"
            }
          },
          "metadata": {},
          "execution_count": 51
        }
      ]
    },
    {
      "cell_type": "code",
      "source": [
        "dic"
      ],
      "metadata": {
        "id": "WilSKGW90AD5",
        "outputId": "2fa94339-6869-4b12-ebf2-e88c04a991c1",
        "colab": {
          "base_uri": "https://localhost:8080/"
        }
      },
      "execution_count": 53,
      "outputs": [
        {
          "output_type": "execute_result",
          "data": {
            "text/plain": [
              "{'Dave': '004', 'Joe': '003', 'Reuben': '001', 'Lorainne': '002'}"
            ]
          },
          "metadata": {},
          "execution_count": 53
        }
      ]
    },
    {
      "cell_type": "code",
      "source": [
        "dic.popitem()"
      ],
      "metadata": {
        "id": "eWR9agK80HbD",
        "outputId": "6266f91f-19bb-43ce-9124-657c7c81757c",
        "colab": {
          "base_uri": "https://localhost:8080/"
        }
      },
      "execution_count": 55,
      "outputs": [
        {
          "output_type": "execute_result",
          "data": {
            "text/plain": [
              "('Reuben', '001')"
            ]
          },
          "metadata": {},
          "execution_count": 55
        }
      ]
    },
    {
      "cell_type": "code",
      "source": [
        "dic"
      ],
      "metadata": {
        "id": "Xy4iPB6D0K6S",
        "outputId": "2fb26c3b-be4b-4dea-d1aa-ef0b1d0a5571",
        "colab": {
          "base_uri": "https://localhost:8080/"
        }
      },
      "execution_count": 56,
      "outputs": [
        {
          "output_type": "execute_result",
          "data": {
            "text/plain": [
              "{'Dave': '004', 'Joe': '003'}"
            ]
          },
          "metadata": {},
          "execution_count": 56
        }
      ]
    },
    {
      "cell_type": "code",
      "source": [
        "dic[\"Omarion\"]= '009'\n",
        "\n",
        "dic"
      ],
      "metadata": {
        "id": "qsyRmus70HdH",
        "outputId": "5d0287f9-fcfa-44b7-c82a-e848d9d699dc",
        "colab": {
          "base_uri": "https://localhost:8080/"
        }
      },
      "execution_count": 59,
      "outputs": [
        {
          "output_type": "execute_result",
          "data": {
            "text/plain": [
              "{'Dave': '004', 'Joe': '003', 'Omarion': '009'}"
            ]
          },
          "metadata": {},
          "execution_count": 59
        }
      ]
    },
    {
      "cell_type": "code",
      "source": [
        "del dic[\"Omarion\"]\n",
        "\n"
      ],
      "metadata": {
        "id": "uM8ZI7ha0Rs4",
        "outputId": "d3989feb-3175-4f94-9802-14923195a312",
        "colab": {
          "base_uri": "https://localhost:8080/",
          "height": 201
        }
      },
      "execution_count": 61,
      "outputs": [
        {
          "output_type": "error",
          "ename": "KeyError",
          "evalue": "ignored",
          "traceback": [
            "\u001b[0;31m---------------------------------------------------------------------------\u001b[0m",
            "\u001b[0;31mKeyError\u001b[0m                                  Traceback (most recent call last)",
            "\u001b[0;32m<ipython-input-61-40470897eea5>\u001b[0m in \u001b[0;36m<module>\u001b[0;34m\u001b[0m\n\u001b[0;32m----> 1\u001b[0;31m \u001b[0;32mdel\u001b[0m \u001b[0mdic\u001b[0m\u001b[0;34m[\u001b[0m\u001b[0;34m\"Omarion\"\u001b[0m\u001b[0;34m]\u001b[0m\u001b[0;34m\u001b[0m\u001b[0;34m\u001b[0m\u001b[0m\n\u001b[0m\u001b[1;32m      2\u001b[0m \u001b[0;34m\u001b[0m\u001b[0m\n\u001b[1;32m      3\u001b[0m \u001b[0mdic\u001b[0m\u001b[0;34m\u001b[0m\u001b[0;34m\u001b[0m\u001b[0m\n",
            "\u001b[0;31mKeyError\u001b[0m: 'Omarion'"
          ]
        }
      ]
    },
    {
      "cell_type": "code",
      "source": [
        "dic"
      ],
      "metadata": {
        "id": "Mf7jasjG0Rvc",
        "outputId": "8fb0a0d8-d829-4eb7-ec7d-f75764145ef9",
        "colab": {
          "base_uri": "https://localhost:8080/"
        }
      },
      "execution_count": 63,
      "outputs": [
        {
          "output_type": "execute_result",
          "data": {
            "text/plain": [
              "{'Dave': '004', 'Joe': '003'}"
            ]
          },
          "metadata": {},
          "execution_count": 63
        }
      ]
    },
    {
      "cell_type": "code",
      "source": [
        "# dict to DF"
      ],
      "metadata": {
        "id": "RZdJBYX_0Ywy"
      },
      "execution_count": 64,
      "outputs": []
    },
    {
      "cell_type": "code",
      "source": [
        "import pandas as pd\n",
        "df = pd.DataFrame(vid_dict[\"Who\"])\n",
        "df.T"
      ],
      "metadata": {
        "id": "U0sn8vFP0Y6A",
        "outputId": "cdafab50-dcca-44da-d82b-dadc102e342e",
        "colab": {
          "base_uri": "https://localhost:8080/",
          "height": 143
        }
      },
      "execution_count": 80,
      "outputs": [
        {
          "output_type": "execute_result",
          "data": {
            "text/plain": [
              "       ID Hourly  Exp\n",
              "Joe     1    100    2\n",
              "Rob     9     55  0.5\n",
              "Leanne  3     75  1.5"
            ],
            "text/html": [
              "\n",
              "  <div id=\"df-5823c470-948c-4324-af63-709c3ff6c57c\">\n",
              "    <div class=\"colab-df-container\">\n",
              "      <div>\n",
              "<style scoped>\n",
              "    .dataframe tbody tr th:only-of-type {\n",
              "        vertical-align: middle;\n",
              "    }\n",
              "\n",
              "    .dataframe tbody tr th {\n",
              "        vertical-align: top;\n",
              "    }\n",
              "\n",
              "    .dataframe thead th {\n",
              "        text-align: right;\n",
              "    }\n",
              "</style>\n",
              "<table border=\"1\" class=\"dataframe\">\n",
              "  <thead>\n",
              "    <tr style=\"text-align: right;\">\n",
              "      <th></th>\n",
              "      <th>ID</th>\n",
              "      <th>Hourly</th>\n",
              "      <th>Exp</th>\n",
              "    </tr>\n",
              "  </thead>\n",
              "  <tbody>\n",
              "    <tr>\n",
              "      <th>Joe</th>\n",
              "      <td>1</td>\n",
              "      <td>100</td>\n",
              "      <td>2</td>\n",
              "    </tr>\n",
              "    <tr>\n",
              "      <th>Rob</th>\n",
              "      <td>9</td>\n",
              "      <td>55</td>\n",
              "      <td>0.5</td>\n",
              "    </tr>\n",
              "    <tr>\n",
              "      <th>Leanne</th>\n",
              "      <td>3</td>\n",
              "      <td>75</td>\n",
              "      <td>1.5</td>\n",
              "    </tr>\n",
              "  </tbody>\n",
              "</table>\n",
              "</div>\n",
              "      <button class=\"colab-df-convert\" onclick=\"convertToInteractive('df-5823c470-948c-4324-af63-709c3ff6c57c')\"\n",
              "              title=\"Convert this dataframe to an interactive table.\"\n",
              "              style=\"display:none;\">\n",
              "        \n",
              "  <svg xmlns=\"http://www.w3.org/2000/svg\" height=\"24px\"viewBox=\"0 0 24 24\"\n",
              "       width=\"24px\">\n",
              "    <path d=\"M0 0h24v24H0V0z\" fill=\"none\"/>\n",
              "    <path d=\"M18.56 5.44l.94 2.06.94-2.06 2.06-.94-2.06-.94-.94-2.06-.94 2.06-2.06.94zm-11 1L8.5 8.5l.94-2.06 2.06-.94-2.06-.94L8.5 2.5l-.94 2.06-2.06.94zm10 10l.94 2.06.94-2.06 2.06-.94-2.06-.94-.94-2.06-.94 2.06-2.06.94z\"/><path d=\"M17.41 7.96l-1.37-1.37c-.4-.4-.92-.59-1.43-.59-.52 0-1.04.2-1.43.59L10.3 9.45l-7.72 7.72c-.78.78-.78 2.05 0 2.83L4 21.41c.39.39.9.59 1.41.59.51 0 1.02-.2 1.41-.59l7.78-7.78 2.81-2.81c.8-.78.8-2.07 0-2.86zM5.41 20L4 18.59l7.72-7.72 1.47 1.35L5.41 20z\"/>\n",
              "  </svg>\n",
              "      </button>\n",
              "      \n",
              "  <style>\n",
              "    .colab-df-container {\n",
              "      display:flex;\n",
              "      flex-wrap:wrap;\n",
              "      gap: 12px;\n",
              "    }\n",
              "\n",
              "    .colab-df-convert {\n",
              "      background-color: #E8F0FE;\n",
              "      border: none;\n",
              "      border-radius: 50%;\n",
              "      cursor: pointer;\n",
              "      display: none;\n",
              "      fill: #1967D2;\n",
              "      height: 32px;\n",
              "      padding: 0 0 0 0;\n",
              "      width: 32px;\n",
              "    }\n",
              "\n",
              "    .colab-df-convert:hover {\n",
              "      background-color: #E2EBFA;\n",
              "      box-shadow: 0px 1px 2px rgba(60, 64, 67, 0.3), 0px 1px 3px 1px rgba(60, 64, 67, 0.15);\n",
              "      fill: #174EA6;\n",
              "    }\n",
              "\n",
              "    [theme=dark] .colab-df-convert {\n",
              "      background-color: #3B4455;\n",
              "      fill: #D2E3FC;\n",
              "    }\n",
              "\n",
              "    [theme=dark] .colab-df-convert:hover {\n",
              "      background-color: #434B5C;\n",
              "      box-shadow: 0px 1px 3px 1px rgba(0, 0, 0, 0.15);\n",
              "      filter: drop-shadow(0px 1px 2px rgba(0, 0, 0, 0.3));\n",
              "      fill: #FFFFFF;\n",
              "    }\n",
              "  </style>\n",
              "\n",
              "      <script>\n",
              "        const buttonEl =\n",
              "          document.querySelector('#df-5823c470-948c-4324-af63-709c3ff6c57c button.colab-df-convert');\n",
              "        buttonEl.style.display =\n",
              "          google.colab.kernel.accessAllowed ? 'block' : 'none';\n",
              "\n",
              "        async function convertToInteractive(key) {\n",
              "          const element = document.querySelector('#df-5823c470-948c-4324-af63-709c3ff6c57c');\n",
              "          const dataTable =\n",
              "            await google.colab.kernel.invokeFunction('convertToInteractive',\n",
              "                                                     [key], {});\n",
              "          if (!dataTable) return;\n",
              "\n",
              "          const docLinkHtml = 'Like what you see? Visit the ' +\n",
              "            '<a target=\"_blank\" href=https://colab.research.google.com/notebooks/data_table.ipynb>data table notebook</a>'\n",
              "            + ' to learn more about interactive tables.';\n",
              "          element.innerHTML = '';\n",
              "          dataTable['output_type'] = 'display_data';\n",
              "          await google.colab.output.renderOutput(dataTable, element);\n",
              "          const docLink = document.createElement('div');\n",
              "          docLink.innerHTML = docLinkHtml;\n",
              "          element.appendChild(docLink);\n",
              "        }\n",
              "      </script>\n",
              "    </div>\n",
              "  </div>\n",
              "  "
            ]
          },
          "metadata": {},
          "execution_count": 80
        }
      ]
    },
    {
      "cell_type": "code",
      "source": [],
      "metadata": {
        "id": "R_TI0EZe0Y8C"
      },
      "execution_count": null,
      "outputs": []
    }
  ],
  "metadata": {
    "colab": {
      "collapsed_sections": [],
      "name": "Markdown Guide",
      "provenance": [],
      "include_colab_link": true
    },
    "kernelspec": {
      "display_name": "Python 3",
      "name": "python3"
    }
  },
  "nbformat": 4,
  "nbformat_minor": 0
}