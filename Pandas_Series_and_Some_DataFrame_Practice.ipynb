{
  "nbformat": 4,
  "nbformat_minor": 0,
  "metadata": {
    "colab": {
      "name": "Pandas Series and Some DataFrame Practice.ipynb",
      "provenance": [],
      "authorship_tag": "ABX9TyOaWiq1DSCB8mzw+GujGX9e",
      "include_colab_link": true
    },
    "kernelspec": {
      "name": "python3",
      "display_name": "Python 3"
    },
    "language_info": {
      "name": "python"
    }
  },
  "cells": [
    {
      "cell_type": "markdown",
      "metadata": {
        "id": "view-in-github",
        "colab_type": "text"
      },
      "source": [
        "<a href=\"https://colab.research.google.com/github/Merm-A-de/Pandas/blob/main/Pandas_Series_and_Some_DataFrame_Practice.ipynb\" target=\"_parent\"><img src=\"https://colab.research.google.com/assets/colab-badge.svg\" alt=\"Open In Colab\"/></a>"
      ]
    },
    {
      "cell_type": "code",
      "execution_count": 361,
      "metadata": {
        "id": "Qy8t2z0wOmlI"
      },
      "outputs": [],
      "source": [
        "import pandas as pd\n",
        "import matplotlib.pyplot as plt\n",
        "import numpy as np\n",
        "import random\n",
        "from random import sample\n",
        "from random import randint"
      ]
    },
    {
      "cell_type": "code",
      "source": [
        "from pandas._libs import index\n",
        "from pandas.core.indexes.base import Index\n",
        "#Haven't programmed in 2 months\n",
        "# Haven't used Pandas in ~ 5 -6 months\n",
        "\n",
        "# Using Family Names - something u'll remember\n",
        "\n",
        "one_d = pd.Series([\n",
        "                   \"Taso\",\"Georgia\",\n",
        "                   \"George\", \"Perry\",\n",
        "                   \"Angelo\", \"Marina\"\n",
        "                  ])\n",
        "\n",
        "#one_d = one_d(index[start=1])\n",
        "#how to start indexing at #1 instead 0\n",
        "\n",
        "#one_d = one_d(pd.Index([1,len(one_d)]))\n",
        "\n",
        "#^ how to reset original index\n",
        "\n",
        "\n",
        "\n",
        "\n",
        "#^ how to set a created index\n",
        "\n",
        "fam = pd.DataFrame({'other': [1,2,3,4,5,6],\n",
        "                    'age:': [58, 55, 27, 25, 22, 20], \n",
        "                    'name': [\"Taso\",\"Georgia\",\n",
        "                          \"George\", \"Perry\",\n",
        "                          \"Angelo\", \"Marina\"]})\n",
        "\n",
        "fam\n",
        "\n",
        "fam = fam.set_index('age')\n",
        "\n"
      ],
      "metadata": {
        "colab": {
          "base_uri": "https://localhost:8080/",
          "height": 400
        },
        "id": "Gyu7MwLHOwgz",
        "outputId": "cd631a54-275b-486b-f1e0-c8252117f189"
      },
      "execution_count": 52,
      "outputs": [
        {
          "output_type": "error",
          "ename": "KeyError",
          "evalue": "ignored",
          "traceback": [
            "\u001b[0;31m---------------------------------------------------------------------------\u001b[0m",
            "\u001b[0;31mKeyError\u001b[0m                                  Traceback (most recent call last)",
            "\u001b[0;32m<ipython-input-52-a01d6b32ecd2>\u001b[0m in \u001b[0;36m<module>\u001b[0;34m()\u001b[0m\n\u001b[1;32m     32\u001b[0m \u001b[0mfam\u001b[0m\u001b[0;34m\u001b[0m\u001b[0;34m\u001b[0m\u001b[0m\n\u001b[1;32m     33\u001b[0m \u001b[0;34m\u001b[0m\u001b[0m\n\u001b[0;32m---> 34\u001b[0;31m \u001b[0mfam\u001b[0m \u001b[0;34m=\u001b[0m \u001b[0mfam\u001b[0m\u001b[0;34m.\u001b[0m\u001b[0mset_index\u001b[0m\u001b[0;34m(\u001b[0m\u001b[0;34m'age'\u001b[0m\u001b[0;34m)\u001b[0m\u001b[0;34m\u001b[0m\u001b[0;34m\u001b[0m\u001b[0m\n\u001b[0m\u001b[1;32m     35\u001b[0m \u001b[0;34m\u001b[0m\u001b[0m\n",
            "\u001b[0;32m/usr/local/lib/python3.7/dist-packages/pandas/util/_decorators.py\u001b[0m in \u001b[0;36mwrapper\u001b[0;34m(*args, **kwargs)\u001b[0m\n\u001b[1;32m    309\u001b[0m                     \u001b[0mstacklevel\u001b[0m\u001b[0;34m=\u001b[0m\u001b[0mstacklevel\u001b[0m\u001b[0;34m,\u001b[0m\u001b[0;34m\u001b[0m\u001b[0;34m\u001b[0m\u001b[0m\n\u001b[1;32m    310\u001b[0m                 )\n\u001b[0;32m--> 311\u001b[0;31m             \u001b[0;32mreturn\u001b[0m \u001b[0mfunc\u001b[0m\u001b[0;34m(\u001b[0m\u001b[0;34m*\u001b[0m\u001b[0margs\u001b[0m\u001b[0;34m,\u001b[0m \u001b[0;34m**\u001b[0m\u001b[0mkwargs\u001b[0m\u001b[0;34m)\u001b[0m\u001b[0;34m\u001b[0m\u001b[0;34m\u001b[0m\u001b[0m\n\u001b[0m\u001b[1;32m    312\u001b[0m \u001b[0;34m\u001b[0m\u001b[0m\n\u001b[1;32m    313\u001b[0m         \u001b[0;32mreturn\u001b[0m \u001b[0mwrapper\u001b[0m\u001b[0;34m\u001b[0m\u001b[0;34m\u001b[0m\u001b[0m\n",
            "\u001b[0;32m/usr/local/lib/python3.7/dist-packages/pandas/core/frame.py\u001b[0m in \u001b[0;36mset_index\u001b[0;34m(self, keys, drop, append, inplace, verify_integrity)\u001b[0m\n\u001b[1;32m   5449\u001b[0m \u001b[0;34m\u001b[0m\u001b[0m\n\u001b[1;32m   5450\u001b[0m         \u001b[0;32mif\u001b[0m \u001b[0mmissing\u001b[0m\u001b[0;34m:\u001b[0m\u001b[0;34m\u001b[0m\u001b[0;34m\u001b[0m\u001b[0m\n\u001b[0;32m-> 5451\u001b[0;31m             \u001b[0;32mraise\u001b[0m \u001b[0mKeyError\u001b[0m\u001b[0;34m(\u001b[0m\u001b[0;34mf\"None of {missing} are in the columns\"\u001b[0m\u001b[0;34m)\u001b[0m\u001b[0;34m\u001b[0m\u001b[0;34m\u001b[0m\u001b[0m\n\u001b[0m\u001b[1;32m   5452\u001b[0m \u001b[0;34m\u001b[0m\u001b[0m\n\u001b[1;32m   5453\u001b[0m         \u001b[0;32mif\u001b[0m \u001b[0minplace\u001b[0m\u001b[0;34m:\u001b[0m\u001b[0;34m\u001b[0m\u001b[0;34m\u001b[0m\u001b[0m\n",
            "\u001b[0;31mKeyError\u001b[0m: \"None of ['age'] are in the columns\""
          ]
        }
      ]
    },
    {
      "cell_type": "code",
      "source": [
        "#Pandas Create a DataFrame"
      ],
      "metadata": {
        "id": "xWVTaM7jOwri"
      },
      "execution_count": 1,
      "outputs": []
    },
    {
      "cell_type": "code",
      "source": [
        "music = pd.DataFrame({\n",
        "                    \"Year\": [2020, 2021, 2022],\n",
        "                    \"Best Song\": [\"Yes Indeed\",\n",
        "                      \"Tragic\", \"Take my Breath\"],\n",
        "                    \"Artist\":[\"Lil Baby\", \"Kid LaRoi\", \"Weeknd\"],\n",
        "                    \"Genre\":[\"Rap\",\"Rap\",\"Pop\"]\n",
        "})\n",
        "\n",
        "music\n"
      ],
      "metadata": {
        "colab": {
          "base_uri": "https://localhost:8080/",
          "height": 143
        },
        "id": "vq66BbiGOwux",
        "outputId": "cb07b391-fdff-4e93-eeca-10b9fe1f829f"
      },
      "execution_count": 58,
      "outputs": [
        {
          "output_type": "execute_result",
          "data": {
            "text/plain": [
              "   Year       Best Song     Artist Genre\n",
              "0  2020      Yes Indeed   Lil Baby   Rap\n",
              "1  2021          Tragic  Kid LaRoi   Rap\n",
              "2  2022  Take my Breath     Weeknd   Pop"
            ],
            "text/html": [
              "\n",
              "  <div id=\"df-47eee9b6-0e02-4f62-9f9b-4af32a70d338\">\n",
              "    <div class=\"colab-df-container\">\n",
              "      <div>\n",
              "<style scoped>\n",
              "    .dataframe tbody tr th:only-of-type {\n",
              "        vertical-align: middle;\n",
              "    }\n",
              "\n",
              "    .dataframe tbody tr th {\n",
              "        vertical-align: top;\n",
              "    }\n",
              "\n",
              "    .dataframe thead th {\n",
              "        text-align: right;\n",
              "    }\n",
              "</style>\n",
              "<table border=\"1\" class=\"dataframe\">\n",
              "  <thead>\n",
              "    <tr style=\"text-align: right;\">\n",
              "      <th></th>\n",
              "      <th>Year</th>\n",
              "      <th>Best Song</th>\n",
              "      <th>Artist</th>\n",
              "      <th>Genre</th>\n",
              "    </tr>\n",
              "  </thead>\n",
              "  <tbody>\n",
              "    <tr>\n",
              "      <th>0</th>\n",
              "      <td>2020</td>\n",
              "      <td>Yes Indeed</td>\n",
              "      <td>Lil Baby</td>\n",
              "      <td>Rap</td>\n",
              "    </tr>\n",
              "    <tr>\n",
              "      <th>1</th>\n",
              "      <td>2021</td>\n",
              "      <td>Tragic</td>\n",
              "      <td>Kid LaRoi</td>\n",
              "      <td>Rap</td>\n",
              "    </tr>\n",
              "    <tr>\n",
              "      <th>2</th>\n",
              "      <td>2022</td>\n",
              "      <td>Take my Breath</td>\n",
              "      <td>Weeknd</td>\n",
              "      <td>Pop</td>\n",
              "    </tr>\n",
              "  </tbody>\n",
              "</table>\n",
              "</div>\n",
              "      <button class=\"colab-df-convert\" onclick=\"convertToInteractive('df-47eee9b6-0e02-4f62-9f9b-4af32a70d338')\"\n",
              "              title=\"Convert this dataframe to an interactive table.\"\n",
              "              style=\"display:none;\">\n",
              "        \n",
              "  <svg xmlns=\"http://www.w3.org/2000/svg\" height=\"24px\"viewBox=\"0 0 24 24\"\n",
              "       width=\"24px\">\n",
              "    <path d=\"M0 0h24v24H0V0z\" fill=\"none\"/>\n",
              "    <path d=\"M18.56 5.44l.94 2.06.94-2.06 2.06-.94-2.06-.94-.94-2.06-.94 2.06-2.06.94zm-11 1L8.5 8.5l.94-2.06 2.06-.94-2.06-.94L8.5 2.5l-.94 2.06-2.06.94zm10 10l.94 2.06.94-2.06 2.06-.94-2.06-.94-.94-2.06-.94 2.06-2.06.94z\"/><path d=\"M17.41 7.96l-1.37-1.37c-.4-.4-.92-.59-1.43-.59-.52 0-1.04.2-1.43.59L10.3 9.45l-7.72 7.72c-.78.78-.78 2.05 0 2.83L4 21.41c.39.39.9.59 1.41.59.51 0 1.02-.2 1.41-.59l7.78-7.78 2.81-2.81c.8-.78.8-2.07 0-2.86zM5.41 20L4 18.59l7.72-7.72 1.47 1.35L5.41 20z\"/>\n",
              "  </svg>\n",
              "      </button>\n",
              "      \n",
              "  <style>\n",
              "    .colab-df-container {\n",
              "      display:flex;\n",
              "      flex-wrap:wrap;\n",
              "      gap: 12px;\n",
              "    }\n",
              "\n",
              "    .colab-df-convert {\n",
              "      background-color: #E8F0FE;\n",
              "      border: none;\n",
              "      border-radius: 50%;\n",
              "      cursor: pointer;\n",
              "      display: none;\n",
              "      fill: #1967D2;\n",
              "      height: 32px;\n",
              "      padding: 0 0 0 0;\n",
              "      width: 32px;\n",
              "    }\n",
              "\n",
              "    .colab-df-convert:hover {\n",
              "      background-color: #E2EBFA;\n",
              "      box-shadow: 0px 1px 2px rgba(60, 64, 67, 0.3), 0px 1px 3px 1px rgba(60, 64, 67, 0.15);\n",
              "      fill: #174EA6;\n",
              "    }\n",
              "\n",
              "    [theme=dark] .colab-df-convert {\n",
              "      background-color: #3B4455;\n",
              "      fill: #D2E3FC;\n",
              "    }\n",
              "\n",
              "    [theme=dark] .colab-df-convert:hover {\n",
              "      background-color: #434B5C;\n",
              "      box-shadow: 0px 1px 3px 1px rgba(0, 0, 0, 0.15);\n",
              "      filter: drop-shadow(0px 1px 2px rgba(0, 0, 0, 0.3));\n",
              "      fill: #FFFFFF;\n",
              "    }\n",
              "  </style>\n",
              "\n",
              "      <script>\n",
              "        const buttonEl =\n",
              "          document.querySelector('#df-47eee9b6-0e02-4f62-9f9b-4af32a70d338 button.colab-df-convert');\n",
              "        buttonEl.style.display =\n",
              "          google.colab.kernel.accessAllowed ? 'block' : 'none';\n",
              "\n",
              "        async function convertToInteractive(key) {\n",
              "          const element = document.querySelector('#df-47eee9b6-0e02-4f62-9f9b-4af32a70d338');\n",
              "          const dataTable =\n",
              "            await google.colab.kernel.invokeFunction('convertToInteractive',\n",
              "                                                     [key], {});\n",
              "          if (!dataTable) return;\n",
              "\n",
              "          const docLinkHtml = 'Like what you see? Visit the ' +\n",
              "            '<a target=\"_blank\" href=https://colab.research.google.com/notebooks/data_table.ipynb>data table notebook</a>'\n",
              "            + ' to learn more about interactive tables.';\n",
              "          element.innerHTML = '';\n",
              "          dataTable['output_type'] = 'display_data';\n",
              "          await google.colab.output.renderOutput(dataTable, element);\n",
              "          const docLink = document.createElement('div');\n",
              "          docLink.innerHTML = docLinkHtml;\n",
              "          element.appendChild(docLink);\n",
              "        }\n",
              "      </script>\n",
              "    </div>\n",
              "  </div>\n",
              "  "
            ]
          },
          "metadata": {},
          "execution_count": 58
        }
      ]
    },
    {
      "cell_type": "code",
      "source": [
        "# Pandas Data Series \n",
        "\n",
        "# Whats the difference of Series and dataFrame\n",
        "\n",
        "# Convert a Data Series to list - Pandas\n"
      ],
      "metadata": {
        "id": "Elt6Ef6bc8e8"
      },
      "execution_count": 59,
      "outputs": []
    },
    {
      "cell_type": "code",
      "source": [
        "ellen = pd.Series([1,2,3,4,9,19])\n",
        "\n",
        "ellen\n",
        "\n",
        "ellen.tolist()"
      ],
      "metadata": {
        "colab": {
          "base_uri": "https://localhost:8080/"
        },
        "id": "CgOxWdHSc5Lk",
        "outputId": "26fb277f-57c9-4743-e3d2-0a3ac403e2fb"
      },
      "execution_count": 66,
      "outputs": [
        {
          "output_type": "execute_result",
          "data": {
            "text/plain": [
              "[1, 2, 3, 4, 9, 19]"
            ]
          },
          "metadata": {},
          "execution_count": 66
        }
      ]
    },
    {
      "cell_type": "code",
      "source": [
        "# Create Padas program to Add two series\n",
        "\n",
        "ser_1 = pd.Series([2, 4, 6, 8, 14])\n",
        "ser_2 = pd.Series([1, 3, 5, 7, 9])\n",
        "\n",
        "ser_3 = ser_1 + ser_2\n",
        "\n",
        "# always recommend playing around rather than listening to another person\n",
        "\n",
        "print(ser_1) #can only call 1 data series without using print \n",
        "print(ser_2)\n",
        "print(ser_3)"
      ],
      "metadata": {
        "colab": {
          "base_uri": "https://localhost:8080/"
        },
        "id": "mkFuSXEFi9zR",
        "outputId": "975c23b3-8eb7-4d09-fcae-7d575e85dbf4"
      },
      "execution_count": 80,
      "outputs": [
        {
          "output_type": "stream",
          "name": "stdout",
          "text": [
            "0     2\n",
            "1     4\n",
            "2     6\n",
            "3     8\n",
            "4    14\n",
            "dtype: int64\n",
            "0    1\n",
            "1    3\n",
            "2    5\n",
            "3    7\n",
            "4    9\n",
            "dtype: int64\n",
            "0     3\n",
            "1     7\n",
            "2    11\n",
            "3    15\n",
            "4    23\n",
            "dtype: int64\n"
          ]
        }
      ]
    },
    {
      "cell_type": "code",
      "source": [
        ""
      ],
      "metadata": {
        "id": "by6GlMpMjwB-"
      },
      "execution_count": null,
      "outputs": []
    },
    {
      "cell_type": "code",
      "source": [
        "# Create Padas program to subtract two series\n",
        "\n",
        "print(ser_1, ser_2)\n",
        "\n",
        "ser_sub = ser_1 - ser_2\n",
        "\n",
        "ser_sub"
      ],
      "metadata": {
        "colab": {
          "base_uri": "https://localhost:8080/"
        },
        "id": "RJ2lwB0Ci94u",
        "outputId": "e54c930f-7adf-4f41-9f33-497a15085030"
      },
      "execution_count": 81,
      "outputs": [
        {
          "output_type": "stream",
          "name": "stdout",
          "text": [
            "0     2\n",
            "1     4\n",
            "2     6\n",
            "3     8\n",
            "4    14\n",
            "dtype: int64 0    1\n",
            "1    3\n",
            "2    5\n",
            "3    7\n",
            "4    9\n",
            "dtype: int64\n"
          ]
        },
        {
          "output_type": "execute_result",
          "data": {
            "text/plain": [
              "0    1\n",
              "1    1\n",
              "2    1\n",
              "3    1\n",
              "4    5\n",
              "dtype: int64"
            ]
          },
          "metadata": {},
          "execution_count": 81
        }
      ]
    },
    {
      "cell_type": "code",
      "source": [
        "# Create Padas program to Multiply two series\n",
        "\n",
        "#print(ser_1, '\\n', ser_2) # why is there a space after escape n'ing\n",
        "# how to remove the space\n",
        "\n",
        "ser_mult = ser_1 * ser_2\n",
        "\n",
        "#2, 12, 30, 56, 126\n",
        "\n",
        "ser_mult\n"
      ],
      "metadata": {
        "colab": {
          "base_uri": "https://localhost:8080/"
        },
        "id": "F9bgEd6kjILZ",
        "outputId": "f81e4c90-4b37-4525-8cb0-74b1588daf2d"
      },
      "execution_count": 86,
      "outputs": [
        {
          "output_type": "execute_result",
          "data": {
            "text/plain": [
              "0      2\n",
              "1     12\n",
              "2     30\n",
              "3     56\n",
              "4    126\n",
              "dtype: int64"
            ]
          },
          "metadata": {},
          "execution_count": 86
        }
      ]
    },
    {
      "cell_type": "code",
      "source": [
        "# Create Padas program to Divide two series\n",
        "\n",
        "#print(ser_1, '\\n',ser_2) # figure the space n one\n",
        "\n",
        "ser_div = ser_1 / ser_2 \n",
        "\n",
        "ser_div\n",
        "#2, 1.33, 1.2, 1.16, 1.55\n",
        "\n",
        "# Bad mental math - program works and runs \n"
      ],
      "metadata": {
        "colab": {
          "base_uri": "https://localhost:8080/"
        },
        "id": "DyrVfJ29i99j",
        "outputId": "fc818fac-0d3f-46b8-cbd7-fab665e98322"
      },
      "execution_count": 91,
      "outputs": [
        {
          "output_type": "execute_result",
          "data": {
            "text/plain": [
              "0    2.000000\n",
              "1    1.333333\n",
              "2    1.200000\n",
              "3    1.142857\n",
              "4    1.555556\n",
              "dtype: float64"
            ]
          },
          "metadata": {},
          "execution_count": 91
        }
      ]
    },
    {
      "cell_type": "code",
      "source": [
        ""
      ],
      "metadata": {
        "id": "_crdAH_pmgtD"
      },
      "execution_count": 91,
      "outputs": []
    },
    {
      "cell_type": "code",
      "source": [
        ""
      ],
      "metadata": {
        "id": "flTZ6jdNmg-0"
      },
      "execution_count": 91,
      "outputs": []
    },
    {
      "cell_type": "code",
      "source": [
        "# Example Pandas Series for comparing Examples\n",
        "\n",
        "fir_ser = pd.Series([58, 55, 27, 25, 22, 3])\n",
        "sec_ser = pd.Series([234, 342, 3, 29, 8, 3])"
      ],
      "metadata": {
        "id": "iwi8fOptmhCA"
      },
      "execution_count": 95,
      "outputs": []
    },
    {
      "cell_type": "code",
      "source": [
        ""
      ],
      "metadata": {
        "id": "y0n4Qa4Hpd5v"
      },
      "execution_count": null,
      "outputs": []
    },
    {
      "cell_type": "code",
      "source": [
        " # Check if elements in Pandas Series Equal\n",
        " fir_ser == sec_ser"
      ],
      "metadata": {
        "colab": {
          "base_uri": "https://localhost:8080/"
        },
        "id": "lsRO1vxcln0q",
        "outputId": "18947786-9be4-4272-97dd-ad2ac1cbc2db"
      },
      "execution_count": 96,
      "outputs": [
        {
          "output_type": "execute_result",
          "data": {
            "text/plain": [
              "0    False\n",
              "1    False\n",
              "2    False\n",
              "3    False\n",
              "4    False\n",
              "5     True\n",
              "dtype: bool"
            ]
          },
          "metadata": {},
          "execution_count": 96
        }
      ]
    },
    {
      "cell_type": "code",
      "source": [
        "# Check if element in first series is greater than second\n",
        "fir_ser > sec_ser"
      ],
      "metadata": {
        "colab": {
          "base_uri": "https://localhost:8080/"
        },
        "id": "2WESE_fwmVIB",
        "outputId": "17916115-0955-4d73-f2a3-d2a1067dae7f"
      },
      "execution_count": 98,
      "outputs": [
        {
          "output_type": "execute_result",
          "data": {
            "text/plain": [
              "0    False\n",
              "1    False\n",
              "2     True\n",
              "3    False\n",
              "4     True\n",
              "5    False\n",
              "dtype: bool"
            ]
          },
          "metadata": {},
          "execution_count": 98
        }
      ]
    },
    {
      "cell_type": "code",
      "source": [
        "# Check if element in first series is less than second\n",
        "fir_ser <= sec_ser\n",
        "#sec_ser > fir_ser"
      ],
      "metadata": {
        "colab": {
          "base_uri": "https://localhost:8080/"
        },
        "id": "4t5W-uhwi-Ea",
        "outputId": "2abcb0c3-018f-49f6-9a11-6b4a8607dae4"
      },
      "execution_count": 101,
      "outputs": [
        {
          "output_type": "execute_result",
          "data": {
            "text/plain": [
              "0     True\n",
              "1     True\n",
              "2    False\n",
              "3     True\n",
              "4    False\n",
              "5     True\n",
              "dtype: bool"
            ]
          },
          "metadata": {},
          "execution_count": 101
        }
      ]
    },
    {
      "cell_type": "code",
      "source": [
        "#convert a dictionary to a Pandas Series\n",
        "\n",
        "dict_ = {\"a\": 12,\"b\": 13,\"c\": 14,\"d\": 15,\"e\": 16, }\n",
        "\n",
        "pd.Series(dict_)"
      ],
      "metadata": {
        "colab": {
          "base_uri": "https://localhost:8080/"
        },
        "id": "1B2EBfKuqJpZ",
        "outputId": "bfa9603c-958f-4f63-9ede-018e6bee64af"
      },
      "execution_count": 103,
      "outputs": [
        {
          "output_type": "execute_result",
          "data": {
            "text/plain": [
              "a    12\n",
              "b    13\n",
              "c    14\n",
              "d    15\n",
              "e    16\n",
              "dtype: int64"
            ]
          },
          "metadata": {},
          "execution_count": 103
        }
      ]
    },
    {
      "cell_type": "code",
      "source": [
        "# convert a Numpy array to a pandas series\n",
        "\n",
        "#Rememer to create a np array import numpy (as np)\n",
        "\n",
        "ar = np.array([1,3,35])\n",
        "\n",
        "pd.Series(ar)"
      ],
      "metadata": {
        "colab": {
          "base_uri": "https://localhost:8080/"
        },
        "id": "3eQayrg_qJsL",
        "outputId": "8ba591c5-3070-468f-f74f-b029fe50be97"
      },
      "execution_count": 106,
      "outputs": [
        {
          "output_type": "execute_result",
          "data": {
            "text/plain": [
              "0     1\n",
              "1     3\n",
              "2    35\n",
              "dtype: int64"
            ]
          },
          "metadata": {},
          "execution_count": 106
        }
      ]
    },
    {
      "cell_type": "code",
      "source": [
        "#for both the dictionary and np array transaltion to a pd Series\n",
        "\n",
        "#use pd.Series(\"whatever ur translating\")"
      ],
      "metadata": {
        "id": "F8m1Jn89qJvk"
      },
      "execution_count": 107,
      "outputs": []
    },
    {
      "cell_type": "code",
      "source": [
        "# link to examples --> \n",
        "# https://www.w3resource.com/python-exercises/pandas/index-data-series.php\n",
        "\n",
        "#8  #Change the data type of a Pandas Series\n",
        "\n",
        "ser_u1 = pd.Series([100, 200, 300, \"Python\", 400, 500])\n",
        "#ser_u2 = \n",
        "\n",
        "ser_u1\n",
        "\n",
        "ser_u2 = pd.to_numeric(ser_u1, errors='coerce')\n",
        "\n",
        "ser_u2"
      ],
      "metadata": {
        "colab": {
          "base_uri": "https://localhost:8080/"
        },
        "id": "mN1L2lBPqJx2",
        "outputId": "a978c944-059a-44ad-8545-87aa57b69857"
      },
      "execution_count": 125,
      "outputs": [
        {
          "output_type": "execute_result",
          "data": {
            "text/plain": [
              "0    100.0\n",
              "1    200.0\n",
              "2    300.0\n",
              "3      NaN\n",
              "4    400.0\n",
              "5    500.0\n",
              "dtype: float64"
            ]
          },
          "metadata": {},
          "execution_count": 125
        }
      ]
    },
    {
      "cell_type": "code",
      "source": [
        "# Create a Pandas Series using X Rows and Y Columns from a Pandas DataFrame\n",
        "\n",
        "d ={ \n",
        "     \"col 1\": [1,5,9,10],\n",
        "     \"col 2\": [\"The\", \"Best\", \"band\", \"None\"],\n",
        "     \"col 3\": [\"Migos\", \"Offset\", \"Quavo\", \"TakeOff\"]\n",
        "}\n",
        "\n",
        "df_ex2 = pd.DataFrame(d)\n",
        "\n",
        "# ^ Same result as below (essentially reading in data to a DataFrame)\n",
        "\n",
        "df_ex = pd.DataFrame({\n",
        "          \"col 1\": [1,5,9,10],\n",
        "          \"col 2\": [\"The\", \"Best\", \"band\", \"None\"],\n",
        "          \"col 3\": [\"Migos\", \"Offset\", \"Quavo\", \"TakeOff\"]\n",
        "})\n",
        "\n",
        "\n",
        "# Creating a PD Series using All rows and only the second column from above DF\n",
        "\n",
        "hook = df_ex.iloc[:,1] # doesn;t work when taking traditional dataframe and \n",
        "# using iloc\n",
        "\n",
        "\n",
        "#Creating a PD Series using rows 1&2 and columns 2&3 of the ^^ DF\n",
        "\n",
        "one_col_ser = df_ex2.iloc[1:3,1:3] #rows, columns (hard stop)\n",
        "#one_col_ser1 = df_ex2.loc[2,:] #loc not working\n",
        "\n",
        "#one_col_ser\n",
        "\n",
        "hook"
      ],
      "metadata": {
        "colab": {
          "base_uri": "https://localhost:8080/"
        },
        "id": "76TVh0oVqJ0r",
        "outputId": "bd688c5d-b92e-43a9-86ae-b5a4aea23bd2"
      },
      "execution_count": 196,
      "outputs": [
        {
          "output_type": "execute_result",
          "data": {
            "text/plain": [
              "0     The\n",
              "1    Best\n",
              "2    band\n",
              "3    None\n",
              "Name: col 2, dtype: object"
            ]
          },
          "metadata": {},
          "execution_count": 196
        }
      ]
    },
    {
      "cell_type": "code",
      "source": [
        ""
      ],
      "metadata": {
        "id": "YqN52Xwc7nQd"
      },
      "execution_count": null,
      "outputs": []
    },
    {
      "cell_type": "code",
      "source": [
        ""
      ],
      "metadata": {
        "id": "6jM8AQvB69OQ"
      },
      "execution_count": null,
      "outputs": []
    },
    {
      "cell_type": "code",
      "source": [
        ""
      ],
      "metadata": {
        "id": "xx4H4Ril67CY"
      },
      "execution_count": null,
      "outputs": []
    },
    {
      "cell_type": "code",
      "source": [
        "# create a series using one column of data from a Pandas Dataframe\n",
        "\n",
        "parents = pd.DataFrame({\n",
        "            \"Role\": [\"Dad\", \"Mom\", \"MGM\"],\n",
        "            \"Name\": [\"Taso\", \"Georgia M.\", \"Georgia K.\" ]  \n",
        "})\n",
        "\n",
        "parents\n",
        "\n",
        "par_ser = parents.iloc[:,0:2] # hard stop on rows \n",
        "\n",
        "par_ser\n"
      ],
      "metadata": {
        "colab": {
          "base_uri": "https://localhost:8080/",
          "height": 143
        },
        "id": "YQHaKTo44_Re",
        "outputId": "404cbb99-03ca-41ca-d929-7b24b8277a55"
      },
      "execution_count": 205,
      "outputs": [
        {
          "output_type": "execute_result",
          "data": {
            "text/plain": [
              "  Role        Name\n",
              "0  Dad        Taso\n",
              "1  Mom  Georgia M.\n",
              "2  MGM  Georgia K."
            ],
            "text/html": [
              "\n",
              "  <div id=\"df-814cfabe-012a-4be4-bb88-c10e9a4d54a9\">\n",
              "    <div class=\"colab-df-container\">\n",
              "      <div>\n",
              "<style scoped>\n",
              "    .dataframe tbody tr th:only-of-type {\n",
              "        vertical-align: middle;\n",
              "    }\n",
              "\n",
              "    .dataframe tbody tr th {\n",
              "        vertical-align: top;\n",
              "    }\n",
              "\n",
              "    .dataframe thead th {\n",
              "        text-align: right;\n",
              "    }\n",
              "</style>\n",
              "<table border=\"1\" class=\"dataframe\">\n",
              "  <thead>\n",
              "    <tr style=\"text-align: right;\">\n",
              "      <th></th>\n",
              "      <th>Role</th>\n",
              "      <th>Name</th>\n",
              "    </tr>\n",
              "  </thead>\n",
              "  <tbody>\n",
              "    <tr>\n",
              "      <th>0</th>\n",
              "      <td>Dad</td>\n",
              "      <td>Taso</td>\n",
              "    </tr>\n",
              "    <tr>\n",
              "      <th>1</th>\n",
              "      <td>Mom</td>\n",
              "      <td>Georgia M.</td>\n",
              "    </tr>\n",
              "    <tr>\n",
              "      <th>2</th>\n",
              "      <td>MGM</td>\n",
              "      <td>Georgia K.</td>\n",
              "    </tr>\n",
              "  </tbody>\n",
              "</table>\n",
              "</div>\n",
              "      <button class=\"colab-df-convert\" onclick=\"convertToInteractive('df-814cfabe-012a-4be4-bb88-c10e9a4d54a9')\"\n",
              "              title=\"Convert this dataframe to an interactive table.\"\n",
              "              style=\"display:none;\">\n",
              "        \n",
              "  <svg xmlns=\"http://www.w3.org/2000/svg\" height=\"24px\"viewBox=\"0 0 24 24\"\n",
              "       width=\"24px\">\n",
              "    <path d=\"M0 0h24v24H0V0z\" fill=\"none\"/>\n",
              "    <path d=\"M18.56 5.44l.94 2.06.94-2.06 2.06-.94-2.06-.94-.94-2.06-.94 2.06-2.06.94zm-11 1L8.5 8.5l.94-2.06 2.06-.94-2.06-.94L8.5 2.5l-.94 2.06-2.06.94zm10 10l.94 2.06.94-2.06 2.06-.94-2.06-.94-.94-2.06-.94 2.06-2.06.94z\"/><path d=\"M17.41 7.96l-1.37-1.37c-.4-.4-.92-.59-1.43-.59-.52 0-1.04.2-1.43.59L10.3 9.45l-7.72 7.72c-.78.78-.78 2.05 0 2.83L4 21.41c.39.39.9.59 1.41.59.51 0 1.02-.2 1.41-.59l7.78-7.78 2.81-2.81c.8-.78.8-2.07 0-2.86zM5.41 20L4 18.59l7.72-7.72 1.47 1.35L5.41 20z\"/>\n",
              "  </svg>\n",
              "      </button>\n",
              "      \n",
              "  <style>\n",
              "    .colab-df-container {\n",
              "      display:flex;\n",
              "      flex-wrap:wrap;\n",
              "      gap: 12px;\n",
              "    }\n",
              "\n",
              "    .colab-df-convert {\n",
              "      background-color: #E8F0FE;\n",
              "      border: none;\n",
              "      border-radius: 50%;\n",
              "      cursor: pointer;\n",
              "      display: none;\n",
              "      fill: #1967D2;\n",
              "      height: 32px;\n",
              "      padding: 0 0 0 0;\n",
              "      width: 32px;\n",
              "    }\n",
              "\n",
              "    .colab-df-convert:hover {\n",
              "      background-color: #E2EBFA;\n",
              "      box-shadow: 0px 1px 2px rgba(60, 64, 67, 0.3), 0px 1px 3px 1px rgba(60, 64, 67, 0.15);\n",
              "      fill: #174EA6;\n",
              "    }\n",
              "\n",
              "    [theme=dark] .colab-df-convert {\n",
              "      background-color: #3B4455;\n",
              "      fill: #D2E3FC;\n",
              "    }\n",
              "\n",
              "    [theme=dark] .colab-df-convert:hover {\n",
              "      background-color: #434B5C;\n",
              "      box-shadow: 0px 1px 3px 1px rgba(0, 0, 0, 0.15);\n",
              "      filter: drop-shadow(0px 1px 2px rgba(0, 0, 0, 0.3));\n",
              "      fill: #FFFFFF;\n",
              "    }\n",
              "  </style>\n",
              "\n",
              "      <script>\n",
              "        const buttonEl =\n",
              "          document.querySelector('#df-814cfabe-012a-4be4-bb88-c10e9a4d54a9 button.colab-df-convert');\n",
              "        buttonEl.style.display =\n",
              "          google.colab.kernel.accessAllowed ? 'block' : 'none';\n",
              "\n",
              "        async function convertToInteractive(key) {\n",
              "          const element = document.querySelector('#df-814cfabe-012a-4be4-bb88-c10e9a4d54a9');\n",
              "          const dataTable =\n",
              "            await google.colab.kernel.invokeFunction('convertToInteractive',\n",
              "                                                     [key], {});\n",
              "          if (!dataTable) return;\n",
              "\n",
              "          const docLinkHtml = 'Like what you see? Visit the ' +\n",
              "            '<a target=\"_blank\" href=https://colab.research.google.com/notebooks/data_table.ipynb>data table notebook</a>'\n",
              "            + ' to learn more about interactive tables.';\n",
              "          element.innerHTML = '';\n",
              "          dataTable['output_type'] = 'display_data';\n",
              "          await google.colab.output.renderOutput(dataTable, element);\n",
              "          const docLink = document.createElement('div');\n",
              "          docLink.innerHTML = docLinkHtml;\n",
              "          element.appendChild(docLink);\n",
              "        }\n",
              "      </script>\n",
              "    </div>\n",
              "  </div>\n",
              "  "
            ]
          },
          "metadata": {},
          "execution_count": 205
        }
      ]
    },
    {
      "cell_type": "code",
      "source": [
        "sir_1 = pd.Series([\n",
        "                  [\"Red\",\"Green\",\"White\"],\n",
        "                  [\"Red\",\"Black\"],\n",
        "                  [\"Yellow\"]\n",
        "])\n",
        "\n",
        "#print(sir_1,sir_2,sir_3)\n",
        "\n",
        "\n",
        "sir_2 = sir_1.apply(pd.Series).stack().reset_index(drop=True)\n",
        "\n",
        "sir_2"
      ],
      "metadata": {
        "colab": {
          "base_uri": "https://localhost:8080/"
        },
        "id": "flYyCqWi6y2f",
        "outputId": "3e220afb-ee4d-443e-863b-c9ed33dae172"
      },
      "execution_count": 233,
      "outputs": [
        {
          "output_type": "execute_result",
          "data": {
            "text/plain": [
              "0       Red\n",
              "1     Green\n",
              "2     White\n",
              "3       Red\n",
              "4     Black\n",
              "5    Yellow\n",
              "dtype: object"
            ]
          },
          "metadata": {},
          "execution_count": 233
        }
      ]
    },
    {
      "cell_type": "code",
      "source": [
        "#program to sort pandas series\n",
        "\n",
        "s3ries = pd.Series([\"25\",\"383\", \"Python\", \"2\", \"373\"])\n",
        "\n",
        "newk = pd.Series(s3ries).sort_values() # doesn't work when nums aren't strings\n",
        "# output has sorted values not index\n",
        "\n",
        "# how to reset index after sorting values\n",
        "newk.reset_index(drop=\"index\")\n"
      ],
      "metadata": {
        "colab": {
          "base_uri": "https://localhost:8080/"
        },
        "id": "UDv6LRLHAjTG",
        "outputId": "eda9e818-e14d-46d2-bdf6-d7ab7111b0d8"
      },
      "execution_count": 247,
      "outputs": [
        {
          "output_type": "execute_result",
          "data": {
            "text/plain": [
              "0         2\n",
              "1        25\n",
              "2       373\n",
              "3       383\n",
              "4    Python\n",
              "dtype: object"
            ]
          },
          "metadata": {},
          "execution_count": 247
        }
      ]
    },
    {
      "cell_type": "code",
      "source": [
        "# add Date to an existing series\n",
        "\n",
        "sirize = pd.Series([\"The\", \"Go\", \"To\", \"Here\"])\n",
        "\n",
        "# Adding a value to the end of all existing values\n",
        "sirize_add_to_all = sirize.add(\"Where\")\n",
        "\n",
        "#way to add and have fresh index\n",
        "n_sirize = (sirize.append(pd.Series(\"where\"))).reset_index(drop=\"index\")\n",
        "\n",
        "#way to add with added values starting from 0 index after existing values index\n",
        "noo_sirize = sirize.append(pd.Series([\"There\", \"Was\", \"always\", \"an answer\"]))\n",
        "\n",
        "noo_sirize \n"
      ],
      "metadata": {
        "colab": {
          "base_uri": "https://localhost:8080/"
        },
        "id": "s3Wj8OtM_4Bf",
        "outputId": "f04e3ede-c0f1-4f17-8ef9-49a17c886933"
      },
      "execution_count": 260,
      "outputs": [
        {
          "output_type": "execute_result",
          "data": {
            "text/plain": [
              "0          The\n",
              "1           Go\n",
              "2           To\n",
              "3         Here\n",
              "0        There\n",
              "1          Was\n",
              "2       always\n",
              "3    an answer\n",
              "dtype: object"
            ]
          },
          "metadata": {},
          "execution_count": 260
        }
      ]
    },
    {
      "cell_type": "code",
      "source": [
        "# output part of a series based on value and condition\n",
        "\n",
        "sleries = pd.Series ([1,3,5,7,9,-199,11])\n",
        "\n",
        "# outputting all rows where the value is greater than the bar\n",
        "\n",
        "the_bar = 3\n",
        "\n",
        "sl_eries = sleries[sleries > the_bar]\n",
        "\n",
        "sl_eries\n",
        "\n",
        "# Same as above with a fresh index\n",
        "\n",
        "sle_ries = sl_eries.reset_index(drop=\"index\")\n",
        "\n",
        "sle_ries"
      ],
      "metadata": {
        "colab": {
          "base_uri": "https://localhost:8080/"
        },
        "id": "wSkssLHfRBGC",
        "outputId": "e940214d-e248-465c-aa06-f48f8ddc5b06"
      },
      "execution_count": 270,
      "outputs": [
        {
          "output_type": "execute_result",
          "data": {
            "text/plain": [
              "0     5\n",
              "1     7\n",
              "2     9\n",
              "3    11\n",
              "dtype: int64"
            ]
          },
          "metadata": {},
          "execution_count": 270
        }
      ]
    },
    {
      "cell_type": "code",
      "source": [
        "# Change the order of a series\n",
        "\n",
        "geries = pd.Series({\"A\":1,\"B\":2,\"C\":3,\"D\":4})\n",
        "\n",
        "geries \n",
        "\n",
        "geries_noo = geries.reindex(index=[\"D\",\"A\",\"C\",\"B\"])\n",
        "\n",
        "print(geries_noo)\n",
        "\n",
        "#creating the series using separate lists of data and index\n",
        "\n",
        "jeries = pd.Series(data=[20,33,28,59,79],index=[\"A\",\"B\",\"C\",\"D\",\"E\"])\n",
        "\n",
        "jeries_noo = jeries.reindex(index=[\"C\",\"A\",\"D\",\"E\",\"B\"])\n",
        "\n",
        "jeries_noo"
      ],
      "metadata": {
        "colab": {
          "base_uri": "https://localhost:8080/"
        },
        "id": "8ki5XRfhShaG",
        "outputId": "f3be98c4-840b-42fd-92c0-edfccfcc46b6"
      },
      "execution_count": 294,
      "outputs": [
        {
          "output_type": "stream",
          "name": "stdout",
          "text": [
            "D    4\n",
            "A    1\n",
            "C    3\n",
            "B    2\n",
            "dtype: int64\n"
          ]
        },
        {
          "output_type": "execute_result",
          "data": {
            "text/plain": [
              "C    28\n",
              "A    20\n",
              "D    59\n",
              "E    79\n",
              "B    33\n",
              "dtype: int64"
            ]
          },
          "metadata": {},
          "execution_count": 294
        }
      ]
    },
    {
      "cell_type": "markdown",
      "source": [
        "Formula for Std of a population ![sample-standard-dev.gif](data:image/gif;base64,R0lGODlh1gA8AMQAAP///wAAAMzMzFBQUHR0dBYWFubm5oqKiiIiIra2tp6enmJiYjAwMAQEBEBAQC0tLTk5OQwMDAAAAAAAAAAAAAAAAAAAAAAAAAAAAAAAAAAAAAAAAAAAAAAAAAAAAAAAACH5BAAAAAAALAAAAADWADwAAAX/ICCOZGmeaAocTNsGcCzPdG3feK7vfO//NJVwSBw5DMWkcslsOp/QqNSInFqv2Kx2mzxyv+CweFzyks/otFpoXrvfcG47/jQsAoPRopGn+79zf0wCAwFVAAuCilmBi0UEBgWJAAkJjpdRD4dYBg5niQoNIgSYpU4Im1YCBQifIhGkk6azRY1QBgwOrGQCCiIHEYi0w0O2UgytY6QjDQ6WxNAnxlHIZLIABAHR22WpVtVhAg4NByQM3OgA01Dg6e5o60/t7/Rh8U7z9fpa9035+wCnQPA25V/Ag076MTEoJUaBhxAjRmgw4xnCOAqXMIxyJ8AyFQIIFAhw7gTBOCcv/2UsMsABDAcDUp6CIaDIgQbeBtRcRMDiCAULFiDwiVHmJQMUgxVJcA2RL5Wb7IhIYOjPyj8KXiZ5KkJAyaNfAWQdEYBrUXSFyjZBsFONDhEOzD4zEKDtWXQjcS5ZNStBshItBV0VJABGgSUL+pgSVeKApxOECEg+M1jQARiKiSAoVyIBgQVHFhAIm8UzaDujSyAwC1SEt8MA6No1ErH2w79djM5yqbZIg9khRSBolW22qmXDsdUl4UAWUwMGDhA98JcomMqKIgTQS6QqCVkF+li3Al484D6FZZjIimCB8evegMjvQYRqgMdDtJU41JtEAqUmCCDggAQKQBB/Zn2H3/8QIsGQIHz1DMBdfimMBRlkLmSYYVMlWHgCaEQIOAJDutgWEW4mHOANdoIYEMF4KHhnwgCwxRYGjSOkMkBmKTTwlWNbRMAhi38UwFkRL3YmQniuLbMAAzA28QyTsX0El5UpMHAIA+9FwUKNVLzTnkZHrlCXAEKKMAkkDJQJxWUCpilMCQVECYAADSzAlGQ6bUFAVqkQidGCjyzolWS4fFYFEoxNcSibiprQKAqFAfiFgQA0gOU6TwYAJi7bkSZFJ4+gWISLShBAqBgKrHoClteBqY5RfgVAlKtRrGLqCQpEoJsezNlJZwIqnsElEW6CAShzRrl3Xwkc3pLLLkKg2eX/h1bi0sUCyX6RAK77PQiGpswKkQcD+jW5xUauJRkiAjL+AusfoqIQLRjzxAOKRyMccC07u5JQgDOVFGywAgeoqh1Jrwq7xgK/rrEsXDIl8FQENd57TMAioAuEuBeJwS/FKkCi5nJzasGuwSy3zHLIa7TDaY54VMkFuzATM/HMIyAgigJ2Fii0TDjnPMzI0whQZlYHaHynhlA7XbTRs4AzjckkNDDmzRxTPcxlSEzDYSFOU9P1VJYKcazXZPA7zaqFOSzP2V0hu8e/bGNRjS0OaKdlCfVO0dJLMVnxW95jgC2oGk/KLcLhiIusasR/sFlOJw5krnnmh0AeOb4ILI4GOqNKeP45F5f9HY2qpeN9ekMTElOnip1AnUvnrr/OTrzDNNftenc48LvuUoBN/PFR8I788rVQzvwiIQAAOw==)"
      ],
      "metadata": {
        "id": "onuRc0wibwRD"
      }
    },
    {
      "cell_type": "code",
      "source": [
        "# 15. program that gets mean and std dev of data in a series\n",
        "\n",
        "laptop = pd.Series([11, 58, 93, 93, 288])\n",
        "\n",
        "print(\"Mean of Laptop Data:\", laptop.mean())\n",
        "print(\"Standard Deviation of Laptop Data:\", laptop.std()) #std as pop not sample\n"
      ],
      "metadata": {
        "colab": {
          "base_uri": "https://localhost:8080/"
        },
        "id": "QzVlbXqyZ9Iu",
        "outputId": "2b03dc3c-8f3c-48f8-d93d-1a239921a6b1"
      },
      "execution_count": 306,
      "outputs": [
        {
          "output_type": "stream",
          "name": "stdout",
          "text": [
            "Mean of Laptop Data: 108.6\n",
            "Standard Deviation of Laptop Data: 105.77948761456543\n"
          ]
        },
        {
          "output_type": "execute_result",
          "data": {
            "text/plain": [
              "0      220\n",
              "1      860\n",
              "2     5461\n",
              "3    39599\n",
              "Name: GDP, dtype: int64"
            ]
          },
          "metadata": {},
          "execution_count": 306
        }
      ]
    },
    {
      "cell_type": "code",
      "source": [
        "# mean and STD for series selected from Dataframe\n",
        "\n",
        "looptop = pd.DataFrame({\n",
        "                        \"Year\": [1800, 1875, 1950, 2025],\n",
        "                        \"GDP\": [220, 860, 5461, 39599]\n",
        "})\n",
        "\n",
        "looptop_ser = pd.Series(looptop.iloc[:,1])\n",
        "\n",
        "print(\"Mean of GDP from Looptop Dataset:\", looptop_ser.mean())\n",
        "print(\"Standard Deviation of GDP from Looptop Dataset:\", looptop_ser.std())\n"
      ],
      "metadata": {
        "colab": {
          "base_uri": "https://localhost:8080/"
        },
        "id": "2IXkS9z6cyJk",
        "outputId": "c36aeda3-72fc-446d-8332-03b9d01d4f35"
      },
      "execution_count": 309,
      "outputs": [
        {
          "output_type": "stream",
          "name": "stdout",
          "text": [
            "Mean of GDP from Looptop Dataset: 11535.0\n",
            "Standard Deviation of GDP from Looptop Dataset: 18854.410819045323\n"
          ]
        }
      ]
    },
    {
      "cell_type": "code",
      "source": [
        "# pull the elements in one series not in the other\n",
        "\n",
        "slur1 = pd.Series ([1,3,5,9,19])\n",
        "slur2 = pd.Series ([1,3,7,9,29])\n",
        "\n",
        "# outputs the elements in slur1 not in slur 2 \n",
        "slur3 = slur1[~slur1.isin(slur2)]\n",
        "\n",
        "# outputs the elements in slur2 not in slur1\n",
        "slur4 = slur2[~slur2.isin(slur1)]\n",
        "\n",
        "# outputs the elements in both\n",
        "slur5 = slur2[slur2.isin(slur1)]\n",
        "\n",
        "slur5"
      ],
      "metadata": {
        "colab": {
          "base_uri": "https://localhost:8080/"
        },
        "id": "pGs5u8o7dXzn",
        "outputId": "5614731c-408d-4ddb-947e-ecab19d0b14e"
      },
      "execution_count": 320,
      "outputs": [
        {
          "output_type": "execute_result",
          "data": {
            "text/plain": [
              "0    1\n",
              "1    3\n",
              "3    9\n",
              "dtype: int64"
            ]
          },
          "metadata": {},
          "execution_count": 320
        }
      ]
    },
    {
      "cell_type": "code",
      "source": [
        "# output series with all elements not in the other series (for both)\n",
        "\n",
        "#My Approach\n",
        "\n",
        "souri = pd.Series([1,3,5,89])\n",
        "souri2 = pd.Series([1,2,4,9])\n",
        "\n",
        "souri_pt1 = souri[~souri.isin(souri2)] \n",
        "souri_pt2 = souri2[~souri2.isin(souri)]\n",
        "\n",
        "# outputs the answer with biffed index and unsorted order\n",
        "output_ind = souri_pt1.append(souri_pt2)\n",
        "\n",
        "#sorted in order\n",
        "output_sort = output_ind.sort_values()\n",
        "\n",
        "# sorted order and proper index\n",
        "output_sort.reset_index(drop=\"index\")"
      ],
      "metadata": {
        "colab": {
          "base_uri": "https://localhost:8080/"
        },
        "id": "mmSBtrlAxBLO",
        "outputId": "8333afaf-b284-4c29-e969-8a1cf152d34a"
      },
      "execution_count": 330,
      "outputs": [
        {
          "output_type": "execute_result",
          "data": {
            "text/plain": [
              "0     2\n",
              "1     3\n",
              "2     4\n",
              "3     5\n",
              "4     9\n",
              "5    89\n",
              "dtype: int64"
            ]
          },
          "metadata": {},
          "execution_count": 330
        }
      ]
    },
    {
      "cell_type": "code",
      "source": [
        "# output series with all elements not in the other series (for both)\n",
        "\n",
        "# Textbook Answer\n",
        "\n",
        "sr11 = pd.Series(np.union1d(souri, souri2)) #all of them\n",
        "sr22 = pd.Series(np.intersect1d(souri, souri2)) #commonalities\n",
        "\n",
        "result = sr11[~sr11.isin(sr22)]\n",
        "\n",
        "result # biffed index\n",
        "\n",
        "indexed_reso = result.reset_index(drop=\"index\") # with proper index\n",
        "\n",
        "indexed_reso"
      ],
      "metadata": {
        "colab": {
          "base_uri": "https://localhost:8080/"
        },
        "id": "VIYcOX5bw4dG",
        "outputId": "082cd2cb-7ebf-4a24-88df-0f231bbb4ab6"
      },
      "execution_count": 335,
      "outputs": [
        {
          "output_type": "execute_result",
          "data": {
            "text/plain": [
              "0     2\n",
              "1     3\n",
              "2     4\n",
              "3     5\n",
              "4     9\n",
              "5    89\n",
              "dtype: int64"
            ]
          },
          "metadata": {},
          "execution_count": 335
        }
      ]
    },
    {
      "cell_type": "code",
      "source": [
        "# Create a series with randomized data\n",
        "\n",
        "# output min, 25th percentile, median, 75th percentile, and max of a series\n",
        "\n",
        "#using an np array that will get translated to a Series\n",
        "\n",
        "art = np.random.rand(20)*100\n",
        "\n",
        "art_as_series = pd.Series(art)\n",
        "\n",
        "#print(art_as_series)\n",
        "\n",
        "print(\"Minimum of art Dataset: \", int(art_as_series.min()))\n",
        "print(\"25th Percentile of art Dataset: \", art_as_series.quantile(.25))\n",
        "print(\"Median of art Dataset: \", art_as_series.quantile(.5))\n",
        "print(\"Median2 of art Dataset: \", art_as_series.median())\n",
        "print(\"75th Percentile of art Dataset: \", art_as_series.quantile(.75))\n",
        "print(\"Maximum of art Dataset: \", art_as_series.max())\n",
        "\n",
        "# how to round all above values \n",
        "\n",
        "#art_array = np.array(art)\n",
        "\n",
        "\n",
        "# using random in a Series\n",
        "ranger = range(0,100)\n",
        "\n",
        "\n",
        "souriiies = pd.Series([random.sample(ranger, k=20)])\n",
        "\n",
        "#souriiies"
      ],
      "metadata": {
        "colab": {
          "base_uri": "https://localhost:8080/"
        },
        "id": "p_SBoo0Uj2Vj",
        "outputId": "30f28a73-b31c-46e4-9659-fcf06da85a1f"
      },
      "execution_count": 426,
      "outputs": [
        {
          "output_type": "stream",
          "name": "stdout",
          "text": [
            "Minimum of art Dataset:  1 2\n",
            "25th Percentile of art Dataset:  19.486501253605265\n",
            "Median of art Dataset:  30.761487901210725\n",
            "Median2 of art Dataset:  30.761487901210725\n",
            "75th Percentile of art Dataset:  53.970126092173224\n",
            "Maximum of art Dataset:  94.90455490838302\n"
          ]
        }
      ]
    },
    {
      "cell_type": "code",
      "source": [
        ""
      ],
      "metadata": {
        "id": "O8o6PzPIsThU"
      },
      "execution_count": null,
      "outputs": []
    },
    {
      "cell_type": "code",
      "source": [
        "# output min, 25th centile, median, 75th centile, & max of a series from a DF \n",
        "\n"
      ],
      "metadata": {
        "id": "YuXpe44vw2jo"
      },
      "execution_count": null,
      "outputs": []
    },
    {
      "cell_type": "code",
      "source": [
        "\n",
        "# get through 20 before leaving tomorrow (thx and good night then post to GH)\n",
        "# ❤️"
      ],
      "metadata": {
        "id": "T_wJKq4zwzMO"
      },
      "execution_count": 428,
      "outputs": []
    },
    {
      "cell_type": "code",
      "source": [
        ""
      ],
      "metadata": {
        "id": "dVVfENbFqJ3w"
      },
      "execution_count": null,
      "outputs": []
    },
    {
      "cell_type": "code",
      "source": [
        "# Next one off - # Pandas Dataframe - Index by a certain column\n",
        "# one for personal before the practice"
      ],
      "metadata": {
        "id": "5orm__ZwOwzh"
      },
      "execution_count": 59,
      "outputs": []
    },
    {
      "cell_type": "code",
      "source": [
        ""
      ],
      "metadata": {
        "id": "pdtNejriifcu"
      },
      "execution_count": 59,
      "outputs": []
    },
    {
      "cell_type": "code",
      "source": [
        ""
      ],
      "metadata": {
        "id": "a-4cfcMHifhP"
      },
      "execution_count": 59,
      "outputs": []
    },
    {
      "cell_type": "code",
      "source": [
        ""
      ],
      "metadata": {
        "id": "eGeCpmShifn8"
      },
      "execution_count": 59,
      "outputs": []
    },
    {
      "cell_type": "code",
      "source": [
        ""
      ],
      "metadata": {
        "id": "djCf4ZAzifsX"
      },
      "execution_count": null,
      "outputs": []
    }
  ]
}